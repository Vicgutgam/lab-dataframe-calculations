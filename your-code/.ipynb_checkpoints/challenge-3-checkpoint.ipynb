{
 "cells": [
  {
   "cell_type": "code",
   "execution_count": 1,
   "metadata": {},
   "outputs": [],
   "source": [
    "# import required libraries\n",
    "import numpy as np\n",
    "import pandas as pd"
   ]
  },
  {
   "cell_type": "code",
   "execution_count": 2,
   "metadata": {},
   "outputs": [],
   "source": [
    "df = pd.read_csv(\"Orders.csv\")"
   ]
  },
  {
   "cell_type": "markdown",
   "metadata": {},
   "source": [
    "# Challenge 3\n",
    "\n",
    "In this challenge we will work on the `Orders` data set. In your work you will apply the thinking process and workflow we showed you in Challenge 2.\n",
    "\n",
    "You are serving as a Business Intelligence Analyst at the headquarter of an international fashion goods chain store. Your boss today asked you to do two things for her:\n",
    "\n",
    "**First, identify two groups of customers from the data set.** The first group is **VIP Customers** whose **aggregated expenses** at your global chain stores are **above the 95th percentile** (aka. 0.95 quantile). The second group is **Preferred Customers** whose **aggregated expenses** are **between the 75th and 95th percentile**.\n",
    "\n",
    "**Second, identify which country has the most of your VIP customers, and which country has the most of your VIP+Preferred Customers combined.**"
   ]
  },
  {
   "cell_type": "code",
   "execution_count": 4,
   "metadata": {},
   "outputs": [
    {
     "data": {
      "text/plain": [
       "CustomerID\n",
       "12346    77183.60\n",
       "12347     4310.00\n",
       "12348     1797.24\n",
       "12349     1757.55\n",
       "12350      334.40\n",
       "           ...   \n",
       "18280      180.60\n",
       "18281       80.82\n",
       "18282      178.05\n",
       "18283     2094.88\n",
       "18287     1837.28\n",
       "Name: amount_spent, Length: 4339, dtype: float64"
      ]
     },
     "execution_count": 4,
     "metadata": {},
     "output_type": "execute_result"
    }
   ],
   "source": [
    "dfcom=df.groupby('CustomerID')['amount_spent'].sum()\n",
    "dfcom"
   ]
  },
  {
   "cell_type": "markdown",
   "metadata": {},
   "source": [
    "## Q1: How to identify VIP & Preferred Customers?\n",
    "\n",
    "We start by importing all the required libraries:"
   ]
  },
  {
   "cell_type": "markdown",
   "metadata": {},
   "source": [
    "Next, extract and import `Orders` dataset into a dataframe variable called `orders`. Print the head of `orders` to overview the data:"
   ]
  },
  {
   "cell_type": "markdown",
   "metadata": {},
   "source": [
    "---\n",
    "\n",
    "\"Identify VIP and Preferred Customers\" is the non-technical goal of your boss. You need to translate that goal into technical languages that data analysts use:\n",
    "\n",
    "## How to label customers whose aggregated `amount_spent` is in a given quantile range?\n"
   ]
  },
  {
   "cell_type": "markdown",
   "metadata": {},
   "source": [
    "We break down the main problem into several sub problems:\n",
    "\n",
    "#### Sub Problem 1: How to aggregate the  `amount_spent` for unique customers?\n",
    "\n",
    "#### Sub Problem 2: How to select customers whose aggregated `amount_spent` is in a given quantile range?\n",
    "\n",
    "#### Sub Problem 3: How to label selected customers as \"VIP\" or \"Preferred\"?\n",
    "\n",
    "*Note: If you want to break down the main problem in a different way, please feel free to revise the sub problems above.*\n",
    "\n",
    "Now in the workspace below, tackle each of the sub problems using the iterative problem solving workflow. Insert cells as necessary to write your codes and explain your steps."
   ]
  },
  {
   "cell_type": "code",
   "execution_count": 20,
   "metadata": {},
   "outputs": [
    {
     "data": {
      "text/html": [
       "<div>\n",
       "<style scoped>\n",
       "    .dataframe tbody tr th:only-of-type {\n",
       "        vertical-align: middle;\n",
       "    }\n",
       "\n",
       "    .dataframe tbody tr th {\n",
       "        vertical-align: top;\n",
       "    }\n",
       "\n",
       "    .dataframe thead th {\n",
       "        text-align: right;\n",
       "    }\n",
       "</style>\n",
       "<table border=\"1\" class=\"dataframe\">\n",
       "  <thead>\n",
       "    <tr style=\"text-align: right;\">\n",
       "      <th></th>\n",
       "      <th>Unnamed: 0</th>\n",
       "      <th>InvoiceNo</th>\n",
       "      <th>StockCode</th>\n",
       "      <th>year</th>\n",
       "      <th>month</th>\n",
       "      <th>day</th>\n",
       "      <th>hour</th>\n",
       "      <th>Description</th>\n",
       "      <th>Quantity</th>\n",
       "      <th>InvoiceDate</th>\n",
       "      <th>UnitPrice</th>\n",
       "      <th>CustomerID</th>\n",
       "      <th>Country</th>\n",
       "      <th>amount_spent</th>\n",
       "      <th>Type</th>\n",
       "    </tr>\n",
       "  </thead>\n",
       "  <tbody>\n",
       "    <tr>\n",
       "      <th>10784</th>\n",
       "      <td>16425</td>\n",
       "      <td>537657</td>\n",
       "      <td>82484</td>\n",
       "      <td>2010</td>\n",
       "      <td>12</td>\n",
       "      <td>2</td>\n",
       "      <td>16</td>\n",
       "      <td>wood black board ant white finish</td>\n",
       "      <td>408</td>\n",
       "      <td>2010-12-07 16:42:00</td>\n",
       "      <td>4.78</td>\n",
       "      <td>18102</td>\n",
       "      <td>United Kingdom</td>\n",
       "      <td>1950.24</td>\n",
       "      <td>18102</td>\n",
       "    </tr>\n",
       "    <tr>\n",
       "      <th>10786</th>\n",
       "      <td>16427</td>\n",
       "      <td>537657</td>\n",
       "      <td>22189</td>\n",
       "      <td>2010</td>\n",
       "      <td>12</td>\n",
       "      <td>2</td>\n",
       "      <td>16</td>\n",
       "      <td>cream heart card holder</td>\n",
       "      <td>972</td>\n",
       "      <td>2010-12-07 16:42:00</td>\n",
       "      <td>2.31</td>\n",
       "      <td>18102</td>\n",
       "      <td>United Kingdom</td>\n",
       "      <td>2245.32</td>\n",
       "      <td>18102</td>\n",
       "    </tr>\n",
       "    <tr>\n",
       "      <th>10787</th>\n",
       "      <td>16428</td>\n",
       "      <td>537657</td>\n",
       "      <td>22188</td>\n",
       "      <td>2010</td>\n",
       "      <td>12</td>\n",
       "      <td>2</td>\n",
       "      <td>16</td>\n",
       "      <td>black heart card holder</td>\n",
       "      <td>972</td>\n",
       "      <td>2010-12-07 16:42:00</td>\n",
       "      <td>2.31</td>\n",
       "      <td>18102</td>\n",
       "      <td>United Kingdom</td>\n",
       "      <td>2245.32</td>\n",
       "      <td>18102</td>\n",
       "    </tr>\n",
       "    <tr>\n",
       "      <th>10788</th>\n",
       "      <td>16429</td>\n",
       "      <td>537657</td>\n",
       "      <td>21623</td>\n",
       "      <td>2010</td>\n",
       "      <td>12</td>\n",
       "      <td>2</td>\n",
       "      <td>16</td>\n",
       "      <td>vintage union jack memoboard</td>\n",
       "      <td>408</td>\n",
       "      <td>2010-12-07 16:42:00</td>\n",
       "      <td>6.38</td>\n",
       "      <td>18102</td>\n",
       "      <td>United Kingdom</td>\n",
       "      <td>2603.04</td>\n",
       "      <td>18102</td>\n",
       "    </tr>\n",
       "    <tr>\n",
       "      <th>10794</th>\n",
       "      <td>16435</td>\n",
       "      <td>537659</td>\n",
       "      <td>22189</td>\n",
       "      <td>2010</td>\n",
       "      <td>12</td>\n",
       "      <td>2</td>\n",
       "      <td>16</td>\n",
       "      <td>cream heart card holder</td>\n",
       "      <td>1008</td>\n",
       "      <td>2010-12-07 16:43:00</td>\n",
       "      <td>2.31</td>\n",
       "      <td>18102</td>\n",
       "      <td>United Kingdom</td>\n",
       "      <td>2328.48</td>\n",
       "      <td>18102</td>\n",
       "    </tr>\n",
       "    <tr>\n",
       "      <th>...</th>\n",
       "      <td>...</td>\n",
       "      <td>...</td>\n",
       "      <td>...</td>\n",
       "      <td>...</td>\n",
       "      <td>...</td>\n",
       "      <td>...</td>\n",
       "      <td>...</td>\n",
       "      <td>...</td>\n",
       "      <td>...</td>\n",
       "      <td>...</td>\n",
       "      <td>...</td>\n",
       "      <td>...</td>\n",
       "      <td>...</td>\n",
       "      <td>...</td>\n",
       "      <td>...</td>\n",
       "    </tr>\n",
       "    <tr>\n",
       "      <th>393237</th>\n",
       "      <td>533751</td>\n",
       "      <td>581110</td>\n",
       "      <td>23486</td>\n",
       "      <td>2011</td>\n",
       "      <td>12</td>\n",
       "      <td>3</td>\n",
       "      <td>12</td>\n",
       "      <td>antique heart shelf unit</td>\n",
       "      <td>150</td>\n",
       "      <td>2011-12-07 12:17:00</td>\n",
       "      <td>13.35</td>\n",
       "      <td>16000</td>\n",
       "      <td>United Kingdom</td>\n",
       "      <td>2002.50</td>\n",
       "      <td>16000</td>\n",
       "    </tr>\n",
       "    <tr>\n",
       "      <th>393298</th>\n",
       "      <td>533812</td>\n",
       "      <td>581115</td>\n",
       "      <td>22413</td>\n",
       "      <td>2011</td>\n",
       "      <td>12</td>\n",
       "      <td>3</td>\n",
       "      <td>12</td>\n",
       "      <td>metal sign take it or leave it</td>\n",
       "      <td>1404</td>\n",
       "      <td>2011-12-07 12:20:00</td>\n",
       "      <td>2.75</td>\n",
       "      <td>15195</td>\n",
       "      <td>United Kingdom</td>\n",
       "      <td>3861.00</td>\n",
       "      <td>15195</td>\n",
       "    </tr>\n",
       "    <tr>\n",
       "      <th>394417</th>\n",
       "      <td>534952</td>\n",
       "      <td>581175</td>\n",
       "      <td>23084</td>\n",
       "      <td>2011</td>\n",
       "      <td>12</td>\n",
       "      <td>3</td>\n",
       "      <td>15</td>\n",
       "      <td>rabbit night light</td>\n",
       "      <td>1440</td>\n",
       "      <td>2011-12-07 15:16:00</td>\n",
       "      <td>1.79</td>\n",
       "      <td>14646</td>\n",
       "      <td>Netherlands</td>\n",
       "      <td>2577.60</td>\n",
       "      <td>14646</td>\n",
       "    </tr>\n",
       "    <tr>\n",
       "      <th>395597</th>\n",
       "      <td>537883</td>\n",
       "      <td>581375</td>\n",
       "      <td>21137</td>\n",
       "      <td>2011</td>\n",
       "      <td>12</td>\n",
       "      <td>4</td>\n",
       "      <td>12</td>\n",
       "      <td>black record cover frame</td>\n",
       "      <td>960</td>\n",
       "      <td>2011-12-08 12:36:00</td>\n",
       "      <td>3.39</td>\n",
       "      <td>16210</td>\n",
       "      <td>United Kingdom</td>\n",
       "      <td>3254.40</td>\n",
       "      <td>16210</td>\n",
       "    </tr>\n",
       "    <tr>\n",
       "      <th>397110</th>\n",
       "      <td>540061</td>\n",
       "      <td>581457</td>\n",
       "      <td>23543</td>\n",
       "      <td>2011</td>\n",
       "      <td>12</td>\n",
       "      <td>4</td>\n",
       "      <td>18</td>\n",
       "      <td>wall art keep calm</td>\n",
       "      <td>698</td>\n",
       "      <td>2011-12-08 18:43:00</td>\n",
       "      <td>4.15</td>\n",
       "      <td>18102</td>\n",
       "      <td>United Kingdom</td>\n",
       "      <td>2896.70</td>\n",
       "      <td>18102</td>\n",
       "    </tr>\n",
       "  </tbody>\n",
       "</table>\n",
       "<p>125 rows × 15 columns</p>\n",
       "</div>"
      ],
      "text/plain": [
       "        Unnamed: 0  InvoiceNo StockCode  year  month  day  hour  \\\n",
       "10784        16425     537657     82484  2010     12    2    16   \n",
       "10786        16427     537657     22189  2010     12    2    16   \n",
       "10787        16428     537657     22188  2010     12    2    16   \n",
       "10788        16429     537657     21623  2010     12    2    16   \n",
       "10794        16435     537659     22189  2010     12    2    16   \n",
       "...            ...        ...       ...   ...    ...  ...   ...   \n",
       "393237      533751     581110     23486  2011     12    3    12   \n",
       "393298      533812     581115     22413  2011     12    3    12   \n",
       "394417      534952     581175     23084  2011     12    3    15   \n",
       "395597      537883     581375     21137  2011     12    4    12   \n",
       "397110      540061     581457     23543  2011     12    4    18   \n",
       "\n",
       "                              Description  Quantity          InvoiceDate  \\\n",
       "10784   wood black board ant white finish       408  2010-12-07 16:42:00   \n",
       "10786             cream heart card holder       972  2010-12-07 16:42:00   \n",
       "10787             black heart card holder       972  2010-12-07 16:42:00   \n",
       "10788        vintage union jack memoboard       408  2010-12-07 16:42:00   \n",
       "10794             cream heart card holder      1008  2010-12-07 16:43:00   \n",
       "...                                   ...       ...                  ...   \n",
       "393237           antique heart shelf unit       150  2011-12-07 12:17:00   \n",
       "393298    metal sign take it or leave it       1404  2011-12-07 12:20:00   \n",
       "394417                 rabbit night light      1440  2011-12-07 15:16:00   \n",
       "395597           black record cover frame       960  2011-12-08 12:36:00   \n",
       "397110                wall art keep calm        698  2011-12-08 18:43:00   \n",
       "\n",
       "        UnitPrice  CustomerID         Country  amount_spent   Type  \n",
       "10784        4.78       18102  United Kingdom       1950.24  18102  \n",
       "10786        2.31       18102  United Kingdom       2245.32  18102  \n",
       "10787        2.31       18102  United Kingdom       2245.32  18102  \n",
       "10788        6.38       18102  United Kingdom       2603.04  18102  \n",
       "10794        2.31       18102  United Kingdom       2328.48  18102  \n",
       "...           ...         ...             ...           ...    ...  \n",
       "393237      13.35       16000  United Kingdom       2002.50  16000  \n",
       "393298       2.75       15195  United Kingdom       3861.00  15195  \n",
       "394417       1.79       14646     Netherlands       2577.60  14646  \n",
       "395597       3.39       16210  United Kingdom       3254.40  16210  \n",
       "397110       4.15       18102  United Kingdom       2896.70  18102  \n",
       "\n",
       "[125 rows x 15 columns]"
      ]
     },
     "execution_count": 20,
     "metadata": {},
     "output_type": "execute_result"
    }
   ],
   "source": [
    "q95=dfcom.quantile(0.95)\n",
    "q75=dfcom.quantile(0.75)\n",
    "lista_95 = df[df[\"amount_spent\"] >q95]\n",
    "lista_75 = df[(df[\"amount_spent\"] > q75) & (df[\"amount_spent\"] < q95)]\n",
    "lista_75"
   ]
  },
  {
   "cell_type": "markdown",
   "metadata": {},
   "source": [
    "Now we'll leave it to you to solve Q2 & Q3, which you can leverage from your solution for Q1:\n",
    "\n",
    "## Q2: How to identify which country has the most VIP Customers?"
   ]
  },
  {
   "cell_type": "code",
   "execution_count": 24,
   "metadata": {},
   "outputs": [
    {
     "data": {
      "text/plain": [
       "Country\n",
       "United Kingdom    7\n",
       "Name: count, dtype: int64"
      ]
     },
     "execution_count": 24,
     "metadata": {},
     "output_type": "execute_result"
    }
   ],
   "source": [
    "lista_95['Country'].value_counts()"
   ]
  },
  {
   "cell_type": "code",
   "execution_count": 23,
   "metadata": {},
   "outputs": [
    {
     "data": {
      "text/plain": [
       "Country\n",
       "United Kingdom    109\n",
       "EIRE                4\n",
       "Singapore           4\n",
       "Japan               3\n",
       "Netherlands         2\n",
       "France              2\n",
       "Australia           1\n",
       "Name: count, dtype: int64"
      ]
     },
     "execution_count": 23,
     "metadata": {},
     "output_type": "execute_result"
    }
   ],
   "source": [
    "lista_75['Country'].value_counts()"
   ]
  },
  {
   "cell_type": "markdown",
   "metadata": {},
   "source": [
    "## Q3: How to identify which country has the most VIP+Preferred Customers combined?"
   ]
  },
  {
   "cell_type": "code",
   "execution_count": 27,
   "metadata": {},
   "outputs": [
    {
     "data": {
      "text/plain": [
       "Country\n",
       "United Kingdom    116\n",
       "Name: count, dtype: int64"
      ]
     },
     "execution_count": 27,
     "metadata": {},
     "output_type": "execute_result"
    }
   ],
   "source": [
    "country75=dfcom.quantile(0.75)\n",
    "country = df[df[\"amount_spent\"] >country75]\n",
    "country['Country'].value_counts().head(1)"
   ]
  },
  {
   "cell_type": "code",
   "execution_count": null,
   "metadata": {},
   "outputs": [],
   "source": []
  }
 ],
 "metadata": {
  "kernelspec": {
   "display_name": "Python 3 (ipykernel)",
   "language": "python",
   "name": "python3"
  },
  "language_info": {
   "codemirror_mode": {
    "name": "ipython",
    "version": 3
   },
   "file_extension": ".py",
   "mimetype": "text/x-python",
   "name": "python",
   "nbconvert_exporter": "python",
   "pygments_lexer": "ipython3",
   "version": "3.11.5"
  }
 },
 "nbformat": 4,
 "nbformat_minor": 2
}
